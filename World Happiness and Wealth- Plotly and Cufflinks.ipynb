{
 "cells": [
  {
   "cell_type": "code",
   "execution_count": null,
   "id": "3f1f8c42",
   "metadata": {},
   "outputs": [],
   "source": [
    "# install lines\n",
    "# pip install plotly\n",
    "# pip install cufflinks\n",
    "# pip install chart-studio"
   ]
  },
  {
   "cell_type": "code",
   "execution_count": null,
   "id": "40371cce",
   "metadata": {},
   "outputs": [],
   "source": [
    "import pandas as pd\n",
    "import numpy as np\n",
    "import cufflinks as cf\n",
    "from plotly.offline import download_plotlyjs, init_notebook_mode, plot, iplot\n",
    "init_notebook_mode(connected = True)\n",
    "cf.go_offline()\n",
    "import chart_studio.plotly as py"
   ]
  },
  {
   "cell_type": "code",
   "execution_count": null,
   "id": "8401df43",
   "metadata": {},
   "outputs": [],
   "source": [
    "# Data from World Happiness Report\n",
    "# https://worldhappiness.report/ed/2021/#appendices-and-data\n",
    "# Data for Figure 2.1 in Appendices and Data"
   ]
  },
  {
   "cell_type": "code",
   "execution_count": null,
   "id": "aab20ed6",
   "metadata": {},
   "outputs": [],
   "source": [
    "df = pd.read_excel(\"DataForFigure2.1WHR2021C2.xls\", sheet_name = \"Sheet1\")\n",
    "df1 = df.set_index(\"Country name\")\n",
    "df1.head()"
   ]
  },
  {
   "cell_type": "code",
   "execution_count": null,
   "id": "6b52cfca",
   "metadata": {},
   "outputs": [],
   "source": [
    "# Comparing Finland, Denmark, Switzerland, Iceland, and Netherlands by:\n",
    "# Freedom to make life choices, generosity, perceptions of corruption\n",
    "df1.iloc[:5,8:11].iplot()"
   ]
  },
  {
   "cell_type": "code",
   "execution_count": null,
   "id": "bce51bf6",
   "metadata": {},
   "outputs": [],
   "source": [
    "# Comparing GDP and Life Expectency\n",
    "df.iplot(kind = \"scatter\", y = \"Logged GDP per capita\", x = \"Healthy life expectancy\", mode = \"markers\", color = \"blue\", categories = \"Country name\", yTitle = \"GDP per capita\", xTitle = \"Life Expectancy\")"
   ]
  },
  {
   "cell_type": "code",
   "execution_count": null,
   "id": "d89436f0",
   "metadata": {},
   "outputs": [],
   "source": [
    "# Regions and Average GDP\n",
    "avg_gdp = df.groupby(\"Regional indicator\")[\"Logged GDP per capita\"].mean()\n",
    "avg_gdp.iplot(kind=\"bar\", color = \"orange\")"
   ]
  },
  {
   "cell_type": "code",
   "execution_count": null,
   "id": "2065daf8",
   "metadata": {},
   "outputs": [],
   "source": [
    "# Bubble plot for corruption, freedom of choice, and GDP per capita in Western Europe\n",
    "weu = df[df[\"Regional indicator\"]==\"Western Europe\"]\n",
    "weu.iplot(kind = \"bubble\", x = \"Perceptions of corruption\", y = \"Freedom to make life choices\", size = \"Logged GDP per capita\", categories = \"Country name\", xTitle = \"Perception of corruption\", yTitle = \"Freedom to make life choices\", title = \"Corruption, Freedom of choices and GDP per capita (size) in Western Europe\")"
   ]
  },
  {
   "cell_type": "code",
   "execution_count": null,
   "id": "3b4e3658",
   "metadata": {},
   "outputs": [],
   "source": [
    "# Bubble plot for corruption, freedom of choice, and GDP per capita in All of Europe\n",
    "eu = df[df[\"Regional indicator\"].str.contains(\"europe\", case = False, na = False)]\n",
    "eu.iplot(kind = \"bubble\", x = \"Perceptions of corruption\", y = \"Freedom to make life choices\", size = \"Logged GDP per capita\", categories = \"Country name\", xTitle = \"Perception of corruption\", yTitle = \"Freedom to make life choices\", title = \"Corruption, Freedom of choices, and GDP per capita (size) in Europe\")"
   ]
  },
  {
   "cell_type": "code",
   "execution_count": null,
   "id": "6fdad522",
   "metadata": {},
   "outputs": [],
   "source": [
    "# Bubble plot for corruption, freedom of choice, and GDP per capita in All of Europe\n",
    "eu.iplot(kind = \"bubble\", x = \"Healthy life expectancy\", y = \"Freedom to make life choices\", size = \"Logged GDP per capita\", categories = \"Country name\", xTitle = \"Life Expectancy\", yTitle = \"Freedom to make life choices\", title = \"Life Expectancy, Freedom of choices, and GDP per capita (size) in Europe\")"
   ]
  }
 ],
 "metadata": {
  "kernelspec": {
   "display_name": "Python 3 (ipykernel)",
   "language": "python",
   "name": "python3"
  },
  "language_info": {
   "codemirror_mode": {
    "name": "ipython",
    "version": 3
   },
   "file_extension": ".py",
   "mimetype": "text/x-python",
   "name": "python",
   "nbconvert_exporter": "python",
   "pygments_lexer": "ipython3",
   "version": "3.9.7"
  }
 },
 "nbformat": 4,
 "nbformat_minor": 5
}
